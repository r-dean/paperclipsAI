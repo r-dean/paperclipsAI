{
 "cells": [
  {
   "cell_type": "code",
   "execution_count": 1,
   "metadata": {},
   "outputs": [
    {
     "name": "stderr",
     "output_type": "stream",
     "text": [
      "Connection initialized\n"
     ]
    }
   ],
   "source": [
    "import logging\n",
    "\n",
    "from paperclips_ai import WebAdapter, SemiGradientSARSALearner, SemiGradientSARSASelector, State\n",
    "\n",
    "# Setup logging config\n",
    "root_logger = logging.getLogger()\n",
    "console_handler = logging.StreamHandler()\n",
    "console_handler.setLevel(logging.INFO)\n",
    "root_logger.addHandler(console_handler)\n",
    "root_logger.setLevel(logging.INFO)\n",
    "\n",
    "# Start adapter\n",
    "adapter = WebAdapter('https://www.decisionproblem.com/paperclips/index2.html')"
   ]
  },
  {
   "cell_type": "code",
   "execution_count": 2,
   "metadata": {},
   "outputs": [],
   "source": [
    "action_names = ['btnMakePaperclip', 'btnBuyWire']\n",
    "feature_names = {'clips', 'funds', 'wire', 'demand'}"
   ]
  },
  {
   "cell_type": "code",
   "execution_count": 3,
   "metadata": {},
   "outputs": [],
   "source": [
    "state = State(adapter, feature_names)"
   ]
  },
  {
   "cell_type": "code",
   "execution_count": 4,
   "metadata": {},
   "outputs": [],
   "source": [
    "selector = SemiGradientSARSASelector(adapter, state, action_names, drift=0)"
   ]
  },
  {
   "cell_type": "code",
   "execution_count": 5,
   "metadata": {},
   "outputs": [],
   "source": [
    "agent = SemiGradientSARSALearner(adapter, state, selector, stepsize=0.01)"
   ]
  },
  {
   "cell_type": "code",
   "execution_count": 58,
   "metadata": {},
   "outputs": [
    {
     "name": "stderr",
     "output_type": "stream",
     "text": [
      "\n",
      "Action distribution:\n",
      "\tdo nothing: 3.103277060575968e-05\tbtnMakePaperclip: 0.9987897219463754\tbtnBuyWire: 0.0011792452830188679\n",
      "\n",
      "Weights: \n",
      "do nothing\n",
      "\tbias: 0.0\n",
      "\tclips: 0.0\n",
      "\twire: 0.0\n",
      "\tdemand: 0.0\n",
      "\tfunds: 0.0\n",
      "btnMakePaperclip\n",
      "\tbias: 0.0\n",
      "\tclips: -0.039715146475381775\n",
      "\twire: 0.7592605455645811\n",
      "\tdemand: 0.19061302040064218\n",
      "\tfunds: -0.0046982272118370385\n",
      "btnBuyWire\n",
      "\tbias: 0.0\n",
      "\tclips: 0.11850234551771824\n",
      "\twire: 0.3007227645761759\n",
      "\tdemand: 0.07748697266991017\n",
      "\tfunds: 0.020488430971652018\n",
      "\n",
      "Estimated Action Values:\n",
      "\tdo nothing: 0.0\tbtnMakePaperclip: 2.4908993049388326\tbtnBuyWire: 1.650110752436513\n",
      "\n"
     ]
    }
   ],
   "source": [
    "agent.learn(1, interval=0.001)\n"
   ]
  },
  {
   "cell_type": "code",
   "execution_count": null,
   "metadata": {},
   "outputs": [],
   "source": [
    "agent.stop()"
   ]
  }
 ],
 "metadata": {
  "kernelspec": {
   "display_name": ".venv",
   "language": "python",
   "name": "python3"
  },
  "language_info": {
   "codemirror_mode": {
    "name": "ipython",
    "version": 3
   },
   "file_extension": ".py",
   "mimetype": "text/x-python",
   "name": "python",
   "nbconvert_exporter": "python",
   "pygments_lexer": "ipython3",
   "version": "3.13.2"
  }
 },
 "nbformat": 4,
 "nbformat_minor": 2
}
