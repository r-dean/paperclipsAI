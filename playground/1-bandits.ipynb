{
 "cells": [
  {
   "cell_type": "markdown",
   "metadata": {},
   "source": [
    "# Setup"
   ]
  },
  {
   "cell_type": "markdown",
   "metadata": {},
   "source": []
  },
  {
   "cell_type": "code",
   "execution_count": 1,
   "metadata": {},
   "outputs": [
    {
     "name": "stderr",
     "output_type": "stream",
     "text": [
      "Connection initialized\n"
     ]
    }
   ],
   "source": [
    "import logging\n",
    "\n",
    "from paperclips_ai import WebAdapter, BanditLearner, eGreedyActionSelector, ucbActionSelector\n",
    "\n",
    "# Setup logging config\n",
    "root_logger = logging.getLogger()\n",
    "console_handler = logging.StreamHandler()\n",
    "console_handler.setLevel(logging.INFO)\n",
    "root_logger.addHandler(console_handler)\n",
    "root_logger.setLevel(logging.INFO)\n",
    "\n",
    "# Start adapter\n",
    "adapter = WebAdapter('https://www.decisionproblem.com/paperclips/index2.html')\n"
   ]
  },
  {
   "cell_type": "markdown",
   "metadata": {},
   "source": [
    "## Create a list of availible actions"
   ]
  },
  {
   "cell_type": "code",
   "execution_count": 2,
   "metadata": {},
   "outputs": [],
   "source": [
    "action_names = ['btnMakePaperclip', 'btnBuyWire']"
   ]
  },
  {
   "cell_type": "markdown",
   "metadata": {},
   "source": [
    "## Choose an action selection criteria"
   ]
  },
  {
   "cell_type": "code",
   "execution_count": 3,
   "metadata": {},
   "outputs": [],
   "source": [
    "selector = eGreedyActionSelector(adapter, action_names, 0.1)"
   ]
  },
  {
   "cell_type": "code",
   "execution_count": 4,
   "metadata": {},
   "outputs": [],
   "source": [
    "selector = ucbActionSelector(adapter, action_names, 1)"
   ]
  },
  {
   "cell_type": "markdown",
   "metadata": {},
   "source": [
    "## Start Learning"
   ]
  },
  {
   "cell_type": "code",
   "execution_count": 5,
   "metadata": {},
   "outputs": [
    {
     "name": "stderr",
     "output_type": "stream",
     "text": [
      "Estimated Action Values:\n",
      "None: 0.0\tbtnMakePaperclip: 1.0\tbtnBuyWire: 0.0\n",
      "Action distribution:\n",
      "None: 0.1\tbtnMakePaperclip: 0.8\tbtnBuyWire: 0.1\n",
      "\n",
      "Estimated Action Values:\n",
      "None: 0.0\tbtnMakePaperclip: 1.0\tbtnBuyWire: 0.0\n",
      "Action distribution:\n",
      "None: 0.075\tbtnMakePaperclip: 0.85\tbtnBuyWire: 0.075\n",
      "\n",
      "Estimated Action Values:\n",
      "None: 0.0\tbtnMakePaperclip: 1.0\tbtnBuyWire: 0.0\n",
      "Action distribution:\n",
      "None: 0.05\tbtnMakePaperclip: 0.9\tbtnBuyWire: 0.05\n",
      "\n",
      "Estimated Action Values:\n",
      "None: 0.0\tbtnMakePaperclip: 1.0\tbtnBuyWire: 0.0\n",
      "Action distribution:\n",
      "None: 0.0375\tbtnMakePaperclip: 0.925\tbtnBuyWire: 0.0375\n",
      "\n"
     ]
    }
   ],
   "source": [
    "\n",
    "agent = BanditLearner(adapter=adapter, selector=selector)\n",
    "\n",
    "agent.learn(iterations=20)"
   ]
  },
  {
   "cell_type": "code",
   "execution_count": 6,
   "metadata": {},
   "outputs": [
    {
     "name": "stderr",
     "output_type": "stream",
     "text": [
      "Estimated Action Values:\n",
      "None: 0.0\tbtnMakePaperclip: 1.0\tbtnBuyWire: 0.0\n",
      "Action distribution:\n",
      "None: 0.04\tbtnMakePaperclip: 0.92\tbtnBuyWire: 0.04\n",
      "\n"
     ]
    }
   ],
   "source": [
    "# Stop run\n",
    "agent.stop()"
   ]
  }
 ],
 "metadata": {
  "kernelspec": {
   "display_name": ".venv",
   "language": "python",
   "name": "python3"
  },
  "language_info": {
   "codemirror_mode": {
    "name": "ipython",
    "version": 3
   },
   "file_extension": ".py",
   "mimetype": "text/x-python",
   "name": "python",
   "nbconvert_exporter": "python",
   "pygments_lexer": "ipython3",
   "version": "3.12.6"
  }
 },
 "nbformat": 4,
 "nbformat_minor": 2
}
